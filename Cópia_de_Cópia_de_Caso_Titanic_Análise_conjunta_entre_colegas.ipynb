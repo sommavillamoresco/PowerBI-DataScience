{
  "nbformat": 4,
  "nbformat_minor": 0,
  "metadata": {
    "colab": {
      "name": "Cópia de Cópia de Caso Titanic - Análise conjunta entre colegas",
      "provenance": [],
      "collapsed_sections": [],
      "include_colab_link": true
    },
    "kernelspec": {
      "name": "python3",
      "display_name": "Python 3"
    }
  },
  "cells": [
    {
      "cell_type": "markdown",
      "metadata": {
        "id": "view-in-github",
        "colab_type": "text"
      },
      "source": [
        "<a href=\"https://colab.research.google.com/github/sommavillamoresco/PowerBI-DataScience/blob/master/C%C3%B3pia_de_C%C3%B3pia_de_Caso_Titanic_An%C3%A1lise_conjunta_entre_colegas.ipynb\" target=\"_parent\"><img src=\"https://colab.research.google.com/assets/colab-badge.svg\" alt=\"Open In Colab\"/></a>"
      ]
    },
    {
      "cell_type": "markdown",
      "metadata": {
        "id": "DmMj9v8p9s6P"
      },
      "source": [
        "# ECD - Introdução à Visualização de Dados - Semana 4\n",
        "## Exercícios \n",
        "### Estatística Descritiva, Matriz de Correlação e Exploração de Dados usando Gráficos\n",
        "##### Prof. Dr. Alessandro de Lima Bicho"
      ]
    },
    {
      "cell_type": "markdown",
      "metadata": {
        "id": "YeHHhBBCoRWT"
      },
      "source": [
        "## Olá, pessoal!\n",
        " \n",
        "Em 15 de abril de 1912, o maior navio de passageiros já construído colidiu com um iceberg durante sua viagem inaugural. Quando o Titanic afundou, ele matou 1502 dos 2224 passageiros e tripulantes. Esta tragédia chocou a comunidade internacional, e levou a melhores regulamentos de segurança para os navios. Uma das razões pelas quais o naufrágio resultou em tal perda de vidas foi que não havia botes salva-vidas suficientes para os passageiros e tripulantes. Embora houvesse algum elemento de sorte envolvido em sobreviver ao naufrágio, alguns grupos de pessoas tiveram maior probabilidade de sobreviver do que outros.\n",
        " \n",
        "O dataset titanic.csv contém dados de 887 passageiros reais do Titanic. Cada linha representa uma pessoa. As colunas descrevem diferentes atributos sobre a pessoa, incluindo:\n",
        "- Survived (sobreviveu): se sobreviveu ao naufrágio estará com 1, e 0 (zero) se não sobreviveu;\n",
        "- Pclass: tipo de classe de passagem (do 1 ao 3), sendo 1 a melhor classe e 3 a pior classe;\n",
        "- Name: nome do passageiro(a);\n",
        "- Sex: gênero do passageiro, sendo masculino e feminino;\n",
        "- Age: idade do passageiro na data da ocorrência do naufrágio;\n",
        "- Siblings_Spouses_Aboard: número de irmãos/cônjuges a bordo;\n",
        "- Parents_Children_Aboard: número de pais/filhos a bordo;\n",
        "- Fare: valor da passagem.  \n",
        " \n",
        "Nesta tarefa, temos duas questões que procurarão fundamentar estatisticamente suas conclusões sobre os sobreviventes deste naufrágio.\n",
        " \n",
        "Bons estudos! \n",
        " \n",
        "Abraço, Alessandro."
      ]
    },
    {
      "cell_type": "markdown",
      "metadata": {
        "id": "1b4DwPHAr1CH"
      },
      "source": [
        "Aqui nós importamos o dataset, que está disponível no meu Google Drive. Caso queiram, podem fazer o download do dataset através do link informado na função `read_csv()` (para análise no Microsoft Excel, por exemplo). "
      ]
    },
    {
      "cell_type": "code",
      "metadata": {
        "id": "AAYX0I8Nf041",
        "colab": {
          "base_uri": "https://localhost:8080/",
          "height": 204
        },
        "outputId": "d108a031-f565-4d54-91be-69d2a3a55e9c"
      },
      "source": [
        "#importar a biblioteca pandas\n",
        "import pandas as pd #importar biblioteca PANDAS\n",
        "pd.options.display.max_columns = None #não limita numero de colunas do data frame\n",
        "pd.options.display.max_rows = None #não limita numero de linhas do data frame\n",
        "pd.options.display.float_format = '{:.2f}'.format #Visualizar valores float do DataFrame com duas casas decimais\n",
        " \n",
        "df = pd.read_csv(\"https://drive.google.com/uc?export=view&id=1Ad2NNAqsCDGwl125D7z-nSbPLVpCFlYu\", error_bad_lines=False, encoding = \"ISO-8859-1\", sep = \",\")\n",
        "df.head()"
      ],
      "execution_count": null,
      "outputs": [
        {
          "output_type": "execute_result",
          "data": {
            "text/html": [
              "<div>\n",
              "<style scoped>\n",
              "    .dataframe tbody tr th:only-of-type {\n",
              "        vertical-align: middle;\n",
              "    }\n",
              "\n",
              "    .dataframe tbody tr th {\n",
              "        vertical-align: top;\n",
              "    }\n",
              "\n",
              "    .dataframe thead th {\n",
              "        text-align: right;\n",
              "    }\n",
              "</style>\n",
              "<table border=\"1\" class=\"dataframe\">\n",
              "  <thead>\n",
              "    <tr style=\"text-align: right;\">\n",
              "      <th></th>\n",
              "      <th>Survived</th>\n",
              "      <th>Pclass</th>\n",
              "      <th>Name</th>\n",
              "      <th>Sex</th>\n",
              "      <th>Age</th>\n",
              "      <th>Siblings_Spouses_Aboard</th>\n",
              "      <th>Parents_Children_Aboard</th>\n",
              "      <th>Fare</th>\n",
              "    </tr>\n",
              "  </thead>\n",
              "  <tbody>\n",
              "    <tr>\n",
              "      <th>0</th>\n",
              "      <td>0</td>\n",
              "      <td>3</td>\n",
              "      <td>Mr. Owen Harris Braund</td>\n",
              "      <td>male</td>\n",
              "      <td>22.00</td>\n",
              "      <td>1</td>\n",
              "      <td>0</td>\n",
              "      <td>7.25</td>\n",
              "    </tr>\n",
              "    <tr>\n",
              "      <th>1</th>\n",
              "      <td>1</td>\n",
              "      <td>1</td>\n",
              "      <td>Mrs. John Bradley (Florence Briggs Thayer) Cum...</td>\n",
              "      <td>female</td>\n",
              "      <td>38.00</td>\n",
              "      <td>1</td>\n",
              "      <td>0</td>\n",
              "      <td>71.28</td>\n",
              "    </tr>\n",
              "    <tr>\n",
              "      <th>2</th>\n",
              "      <td>1</td>\n",
              "      <td>3</td>\n",
              "      <td>Miss. Laina Heikkinen</td>\n",
              "      <td>female</td>\n",
              "      <td>26.00</td>\n",
              "      <td>0</td>\n",
              "      <td>0</td>\n",
              "      <td>7.92</td>\n",
              "    </tr>\n",
              "    <tr>\n",
              "      <th>3</th>\n",
              "      <td>1</td>\n",
              "      <td>1</td>\n",
              "      <td>Mrs. Jacques Heath (Lily May Peel) Futrelle</td>\n",
              "      <td>female</td>\n",
              "      <td>35.00</td>\n",
              "      <td>1</td>\n",
              "      <td>0</td>\n",
              "      <td>53.10</td>\n",
              "    </tr>\n",
              "    <tr>\n",
              "      <th>4</th>\n",
              "      <td>0</td>\n",
              "      <td>3</td>\n",
              "      <td>Mr. William Henry Allen</td>\n",
              "      <td>male</td>\n",
              "      <td>35.00</td>\n",
              "      <td>0</td>\n",
              "      <td>0</td>\n",
              "      <td>8.05</td>\n",
              "    </tr>\n",
              "  </tbody>\n",
              "</table>\n",
              "</div>"
            ],
            "text/plain": [
              "   Survived  Pclass                                               Name  \\\n",
              "0         0       3                             Mr. Owen Harris Braund   \n",
              "1         1       1  Mrs. John Bradley (Florence Briggs Thayer) Cum...   \n",
              "2         1       3                              Miss. Laina Heikkinen   \n",
              "3         1       1        Mrs. Jacques Heath (Lily May Peel) Futrelle   \n",
              "4         0       3                            Mr. William Henry Allen   \n",
              "\n",
              "      Sex   Age  Siblings_Spouses_Aboard  Parents_Children_Aboard  Fare  \n",
              "0    male 22.00                        1                        0  7.25  \n",
              "1  female 38.00                        1                        0 71.28  \n",
              "2  female 26.00                        0                        0  7.92  \n",
              "3  female 35.00                        1                        0 53.10  \n",
              "4    male 35.00                        0                        0  8.05  "
            ]
          },
          "metadata": {
            "tags": []
          },
          "execution_count": 5
        }
      ]
    },
    {
      "cell_type": "markdown",
      "metadata": {
        "id": "BTFOwPWVsDjy"
      },
      "source": [
        "1) Ao rever os dados de 887 passageiros do naufrágio do Titanic, você, cientista de dados, percebe que pode haver uma **correlação** que explique os sobreviventes deste naufrágio! Demonstre, através dos ensinamentos das Semanas 3 e 4, como estatisticamente podemos fundamentar nossa resposta. Explore os possíveis métodos."
      ]
    },
    {
      "cell_type": "code",
      "metadata": {
        "id": "ogCsuAZ0mF9L",
        "colab": {
          "base_uri": "https://localhost:8080/",
          "height": 297
        },
        "outputId": "bc953051-2ef1-4059-e58b-6834d73f2c3a"
      },
      "source": [
        "# Responda aqui a questão 1\n",
        "df.describe() # analisa séries numéricas ou de objetos, assim como colunas em DataFrames de tipos de dados mistos \n"
      ],
      "execution_count": null,
      "outputs": [
        {
          "output_type": "execute_result",
          "data": {
            "text/html": [
              "<div>\n",
              "<style scoped>\n",
              "    .dataframe tbody tr th:only-of-type {\n",
              "        vertical-align: middle;\n",
              "    }\n",
              "\n",
              "    .dataframe tbody tr th {\n",
              "        vertical-align: top;\n",
              "    }\n",
              "\n",
              "    .dataframe thead th {\n",
              "        text-align: right;\n",
              "    }\n",
              "</style>\n",
              "<table border=\"1\" class=\"dataframe\">\n",
              "  <thead>\n",
              "    <tr style=\"text-align: right;\">\n",
              "      <th></th>\n",
              "      <th>Survived</th>\n",
              "      <th>Pclass</th>\n",
              "      <th>Age</th>\n",
              "      <th>Siblings_Spouses_Aboard</th>\n",
              "      <th>Parents_Children_Aboard</th>\n",
              "      <th>Fare</th>\n",
              "    </tr>\n",
              "  </thead>\n",
              "  <tbody>\n",
              "    <tr>\n",
              "      <th>count</th>\n",
              "      <td>887.00</td>\n",
              "      <td>887.00</td>\n",
              "      <td>887.00</td>\n",
              "      <td>887.00</td>\n",
              "      <td>887.00</td>\n",
              "      <td>887.00</td>\n",
              "    </tr>\n",
              "    <tr>\n",
              "      <th>mean</th>\n",
              "      <td>0.39</td>\n",
              "      <td>2.31</td>\n",
              "      <td>29.47</td>\n",
              "      <td>0.53</td>\n",
              "      <td>0.38</td>\n",
              "      <td>32.31</td>\n",
              "    </tr>\n",
              "    <tr>\n",
              "      <th>std</th>\n",
              "      <td>0.49</td>\n",
              "      <td>0.84</td>\n",
              "      <td>14.12</td>\n",
              "      <td>1.10</td>\n",
              "      <td>0.81</td>\n",
              "      <td>49.78</td>\n",
              "    </tr>\n",
              "    <tr>\n",
              "      <th>min</th>\n",
              "      <td>0.00</td>\n",
              "      <td>1.00</td>\n",
              "      <td>0.42</td>\n",
              "      <td>0.00</td>\n",
              "      <td>0.00</td>\n",
              "      <td>0.00</td>\n",
              "    </tr>\n",
              "    <tr>\n",
              "      <th>25%</th>\n",
              "      <td>0.00</td>\n",
              "      <td>2.00</td>\n",
              "      <td>20.25</td>\n",
              "      <td>0.00</td>\n",
              "      <td>0.00</td>\n",
              "      <td>7.92</td>\n",
              "    </tr>\n",
              "    <tr>\n",
              "      <th>50%</th>\n",
              "      <td>0.00</td>\n",
              "      <td>3.00</td>\n",
              "      <td>28.00</td>\n",
              "      <td>0.00</td>\n",
              "      <td>0.00</td>\n",
              "      <td>14.45</td>\n",
              "    </tr>\n",
              "    <tr>\n",
              "      <th>75%</th>\n",
              "      <td>1.00</td>\n",
              "      <td>3.00</td>\n",
              "      <td>38.00</td>\n",
              "      <td>1.00</td>\n",
              "      <td>0.00</td>\n",
              "      <td>31.14</td>\n",
              "    </tr>\n",
              "    <tr>\n",
              "      <th>max</th>\n",
              "      <td>1.00</td>\n",
              "      <td>3.00</td>\n",
              "      <td>80.00</td>\n",
              "      <td>8.00</td>\n",
              "      <td>6.00</td>\n",
              "      <td>512.33</td>\n",
              "    </tr>\n",
              "  </tbody>\n",
              "</table>\n",
              "</div>"
            ],
            "text/plain": [
              "       Survived  Pclass    Age  Siblings_Spouses_Aboard  \\\n",
              "count    887.00  887.00 887.00                   887.00   \n",
              "mean       0.39    2.31  29.47                     0.53   \n",
              "std        0.49    0.84  14.12                     1.10   \n",
              "min        0.00    1.00   0.42                     0.00   \n",
              "25%        0.00    2.00  20.25                     0.00   \n",
              "50%        0.00    3.00  28.00                     0.00   \n",
              "75%        1.00    3.00  38.00                     1.00   \n",
              "max        1.00    3.00  80.00                     8.00   \n",
              "\n",
              "       Parents_Children_Aboard   Fare  \n",
              "count                   887.00 887.00  \n",
              "mean                      0.38  32.31  \n",
              "std                       0.81  49.78  \n",
              "min                       0.00   0.00  \n",
              "25%                       0.00   7.92  \n",
              "50%                       0.00  14.45  \n",
              "75%                       0.00  31.14  \n",
              "max                       6.00 512.33  "
            ]
          },
          "metadata": {
            "tags": []
          },
          "execution_count": 2
        }
      ]
    },
    {
      "cell_type": "code",
      "metadata": {
        "colab": {
          "base_uri": "https://localhost:8080/"
        },
        "id": "ZaQfNn22m43g",
        "outputId": "da4af8bb-79f1-44b5-9484-45be597dbe84"
      },
      "source": [
        "df.dtypes\n"
      ],
      "execution_count": null,
      "outputs": [
        {
          "output_type": "execute_result",
          "data": {
            "text/plain": [
              "Survived                     int64\n",
              "Pclass                       int64\n",
              "Name                        object\n",
              "Sex                         object\n",
              "Age                        float64\n",
              "Siblings_Spouses_Aboard      int64\n",
              "Parents_Children_Aboard      int64\n",
              "Fare                       float64\n",
              "dtype: object"
            ]
          },
          "metadata": {
            "tags": []
          },
          "execution_count": 3
        }
      ]
    },
    {
      "cell_type": "code",
      "metadata": {
        "colab": {
          "base_uri": "https://localhost:8080/"
        },
        "id": "yTpkfriIm5Id",
        "outputId": "50935bf5-68aa-4995-f8d5-302380a3199a"
      },
      "source": [
        "df.columns"
      ],
      "execution_count": null,
      "outputs": [
        {
          "output_type": "execute_result",
          "data": {
            "text/plain": [
              "Index(['Survived', 'Pclass', 'Name', 'Sex', 'Age', 'Siblings_Spouses_Aboard',\n",
              "       'Parents_Children_Aboard', 'Fare'],\n",
              "      dtype='object')"
            ]
          },
          "metadata": {
            "tags": []
          },
          "execution_count": 4
        }
      ]
    },
    {
      "cell_type": "code",
      "metadata": {
        "colab": {
          "base_uri": "https://localhost:8080/"
        },
        "id": "Gdzf2Gp3nSGt",
        "outputId": "6ab00a80-5dd8-412d-b1d5-f3be0a07d1b3"
      },
      "source": [
        "df.sum()"
      ],
      "execution_count": null,
      "outputs": [
        {
          "output_type": "execute_result",
          "data": {
            "text/plain": [
              "Survived                                                                 342\n",
              "Pclass                                                                  2045\n",
              "Name                       Mr. Owen Harris BraundMrs. John Bradley (Flore...\n",
              "Sex                        malefemalefemalefemalemalemalemalemalefemalefe...\n",
              "Age                                                                 26141.17\n",
              "Siblings_Spouses_Aboard                                                  466\n",
              "Parents_Children_Aboard                                                  340\n",
              "Fare                                                                28654.91\n",
              "dtype: object"
            ]
          },
          "metadata": {
            "tags": []
          },
          "execution_count": 5
        }
      ]
    },
    {
      "cell_type": "code",
      "metadata": {
        "colab": {
          "base_uri": "https://localhost:8080/"
        },
        "id": "guNYxkwmnyMO",
        "outputId": "ff3362df-7820-4761-c814-7b3f73c8726a"
      },
      "source": [
        "df.groupby('Sex')['Survived'].mean()"
      ],
      "execution_count": null,
      "outputs": [
        {
          "output_type": "execute_result",
          "data": {
            "text/plain": [
              "Sex\n",
              "female   0.74\n",
              "male     0.19\n",
              "Name: Survived, dtype: float64"
            ]
          },
          "metadata": {
            "tags": []
          },
          "execution_count": 6
        }
      ]
    },
    {
      "cell_type": "code",
      "metadata": {
        "colab": {
          "base_uri": "https://localhost:8080/",
          "height": 142
        },
        "id": "uIwlBAk1oUTq",
        "outputId": "4da19547-0d37-4bda-ec9b-88433c551d7f"
      },
      "source": [
        "df.groupby('Sex').mean()"
      ],
      "execution_count": null,
      "outputs": [
        {
          "output_type": "execute_result",
          "data": {
            "text/html": [
              "<div>\n",
              "<style scoped>\n",
              "    .dataframe tbody tr th:only-of-type {\n",
              "        vertical-align: middle;\n",
              "    }\n",
              "\n",
              "    .dataframe tbody tr th {\n",
              "        vertical-align: top;\n",
              "    }\n",
              "\n",
              "    .dataframe thead th {\n",
              "        text-align: right;\n",
              "    }\n",
              "</style>\n",
              "<table border=\"1\" class=\"dataframe\">\n",
              "  <thead>\n",
              "    <tr style=\"text-align: right;\">\n",
              "      <th></th>\n",
              "      <th>Survived</th>\n",
              "      <th>Pclass</th>\n",
              "      <th>Age</th>\n",
              "      <th>Siblings_Spouses_Aboard</th>\n",
              "      <th>Parents_Children_Aboard</th>\n",
              "      <th>Fare</th>\n",
              "    </tr>\n",
              "    <tr>\n",
              "      <th>Sex</th>\n",
              "      <th></th>\n",
              "      <th></th>\n",
              "      <th></th>\n",
              "      <th></th>\n",
              "      <th></th>\n",
              "      <th></th>\n",
              "    </tr>\n",
              "  </thead>\n",
              "  <tbody>\n",
              "    <tr>\n",
              "      <th>female</th>\n",
              "      <td>0.74</td>\n",
              "      <td>2.16</td>\n",
              "      <td>27.72</td>\n",
              "      <td>0.69</td>\n",
              "      <td>0.65</td>\n",
              "      <td>44.48</td>\n",
              "    </tr>\n",
              "    <tr>\n",
              "      <th>male</th>\n",
              "      <td>0.19</td>\n",
              "      <td>2.39</td>\n",
              "      <td>30.43</td>\n",
              "      <td>0.43</td>\n",
              "      <td>0.24</td>\n",
              "      <td>25.63</td>\n",
              "    </tr>\n",
              "  </tbody>\n",
              "</table>\n",
              "</div>"
            ],
            "text/plain": [
              "        Survived  Pclass   Age  Siblings_Spouses_Aboard  \\\n",
              "Sex                                                       \n",
              "female      0.74    2.16 27.72                     0.69   \n",
              "male        0.19    2.39 30.43                     0.43   \n",
              "\n",
              "        Parents_Children_Aboard  Fare  \n",
              "Sex                                    \n",
              "female                     0.65 44.48  \n",
              "male                       0.24 25.63  "
            ]
          },
          "metadata": {
            "tags": []
          },
          "execution_count": 7
        }
      ]
    },
    {
      "cell_type": "code",
      "metadata": {
        "colab": {
          "base_uri": "https://localhost:8080/",
          "height": 204
        },
        "id": "l3bUwxAFp4N2",
        "outputId": "5af7a3e1-9097-4702-fdc8-71f2e377f06f"
      },
      "source": [
        "df['Sex']=df['Sex'].map({\"male\":0, \"female\":1})\n",
        "df.head()"
      ],
      "execution_count": null,
      "outputs": [
        {
          "output_type": "execute_result",
          "data": {
            "text/html": [
              "<div>\n",
              "<style scoped>\n",
              "    .dataframe tbody tr th:only-of-type {\n",
              "        vertical-align: middle;\n",
              "    }\n",
              "\n",
              "    .dataframe tbody tr th {\n",
              "        vertical-align: top;\n",
              "    }\n",
              "\n",
              "    .dataframe thead th {\n",
              "        text-align: right;\n",
              "    }\n",
              "</style>\n",
              "<table border=\"1\" class=\"dataframe\">\n",
              "  <thead>\n",
              "    <tr style=\"text-align: right;\">\n",
              "      <th></th>\n",
              "      <th>Survived</th>\n",
              "      <th>Pclass</th>\n",
              "      <th>Name</th>\n",
              "      <th>Sex</th>\n",
              "      <th>Age</th>\n",
              "      <th>Siblings_Spouses_Aboard</th>\n",
              "      <th>Parents_Children_Aboard</th>\n",
              "      <th>Fare</th>\n",
              "    </tr>\n",
              "  </thead>\n",
              "  <tbody>\n",
              "    <tr>\n",
              "      <th>0</th>\n",
              "      <td>0</td>\n",
              "      <td>3</td>\n",
              "      <td>Mr. Owen Harris Braund</td>\n",
              "      <td>0</td>\n",
              "      <td>22.00</td>\n",
              "      <td>1</td>\n",
              "      <td>0</td>\n",
              "      <td>7.25</td>\n",
              "    </tr>\n",
              "    <tr>\n",
              "      <th>1</th>\n",
              "      <td>1</td>\n",
              "      <td>1</td>\n",
              "      <td>Mrs. John Bradley (Florence Briggs Thayer) Cum...</td>\n",
              "      <td>1</td>\n",
              "      <td>38.00</td>\n",
              "      <td>1</td>\n",
              "      <td>0</td>\n",
              "      <td>71.28</td>\n",
              "    </tr>\n",
              "    <tr>\n",
              "      <th>2</th>\n",
              "      <td>1</td>\n",
              "      <td>3</td>\n",
              "      <td>Miss. Laina Heikkinen</td>\n",
              "      <td>1</td>\n",
              "      <td>26.00</td>\n",
              "      <td>0</td>\n",
              "      <td>0</td>\n",
              "      <td>7.92</td>\n",
              "    </tr>\n",
              "    <tr>\n",
              "      <th>3</th>\n",
              "      <td>1</td>\n",
              "      <td>1</td>\n",
              "      <td>Mrs. Jacques Heath (Lily May Peel) Futrelle</td>\n",
              "      <td>1</td>\n",
              "      <td>35.00</td>\n",
              "      <td>1</td>\n",
              "      <td>0</td>\n",
              "      <td>53.10</td>\n",
              "    </tr>\n",
              "    <tr>\n",
              "      <th>4</th>\n",
              "      <td>0</td>\n",
              "      <td>3</td>\n",
              "      <td>Mr. William Henry Allen</td>\n",
              "      <td>0</td>\n",
              "      <td>35.00</td>\n",
              "      <td>0</td>\n",
              "      <td>0</td>\n",
              "      <td>8.05</td>\n",
              "    </tr>\n",
              "  </tbody>\n",
              "</table>\n",
              "</div>"
            ],
            "text/plain": [
              "   Survived  Pclass                                               Name  Sex  \\\n",
              "0         0       3                             Mr. Owen Harris Braund    0   \n",
              "1         1       1  Mrs. John Bradley (Florence Briggs Thayer) Cum...    1   \n",
              "2         1       3                              Miss. Laina Heikkinen    1   \n",
              "3         1       1        Mrs. Jacques Heath (Lily May Peel) Futrelle    1   \n",
              "4         0       3                            Mr. William Henry Allen    0   \n",
              "\n",
              "    Age  Siblings_Spouses_Aboard  Parents_Children_Aboard  Fare  \n",
              "0 22.00                        1                        0  7.25  \n",
              "1 38.00                        1                        0 71.28  \n",
              "2 26.00                        0                        0  7.92  \n",
              "3 35.00                        1                        0 53.10  \n",
              "4 35.00                        0                        0  8.05  "
            ]
          },
          "metadata": {
            "tags": []
          },
          "execution_count": 8
        }
      ]
    },
    {
      "cell_type": "code",
      "metadata": {
        "colab": {
          "base_uri": "https://localhost:8080/"
        },
        "id": "ez32iv3iqvz2",
        "outputId": "44d49625-ab2e-4c66-a707-6921ddc583ba"
      },
      "source": [
        "df[df['Survived'] == 1]['Fare'].mean()"
      ],
      "execution_count": null,
      "outputs": [
        {
          "output_type": "execute_result",
          "data": {
            "text/plain": [
              "48.39540760233917"
            ]
          },
          "metadata": {
            "tags": []
          },
          "execution_count": 15
        }
      ]
    },
    {
      "cell_type": "code",
      "metadata": {
        "colab": {
          "base_uri": "https://localhost:8080/",
          "height": 142
        },
        "id": "qL1r2Z36r1lk",
        "outputId": "05e9c040-9ac2-42b1-a853-f013d86cfa5d"
      },
      "source": [
        "df.groupby('Survived').mean()"
      ],
      "execution_count": null,
      "outputs": [
        {
          "output_type": "execute_result",
          "data": {
            "text/html": [
              "<div>\n",
              "<style scoped>\n",
              "    .dataframe tbody tr th:only-of-type {\n",
              "        vertical-align: middle;\n",
              "    }\n",
              "\n",
              "    .dataframe tbody tr th {\n",
              "        vertical-align: top;\n",
              "    }\n",
              "\n",
              "    .dataframe thead th {\n",
              "        text-align: right;\n",
              "    }\n",
              "</style>\n",
              "<table border=\"1\" class=\"dataframe\">\n",
              "  <thead>\n",
              "    <tr style=\"text-align: right;\">\n",
              "      <th></th>\n",
              "      <th>Pclass</th>\n",
              "      <th>Sex</th>\n",
              "      <th>Age</th>\n",
              "      <th>Siblings_Spouses_Aboard</th>\n",
              "      <th>Parents_Children_Aboard</th>\n",
              "      <th>Fare</th>\n",
              "      <th>Sex_N</th>\n",
              "    </tr>\n",
              "    <tr>\n",
              "      <th>Survived</th>\n",
              "      <th></th>\n",
              "      <th></th>\n",
              "      <th></th>\n",
              "      <th></th>\n",
              "      <th></th>\n",
              "      <th></th>\n",
              "      <th></th>\n",
              "    </tr>\n",
              "  </thead>\n",
              "  <tbody>\n",
              "    <tr>\n",
              "      <th>0</th>\n",
              "      <td>2.53</td>\n",
              "      <td>0.15</td>\n",
              "      <td>30.14</td>\n",
              "      <td>0.56</td>\n",
              "      <td>0.33</td>\n",
              "      <td>22.21</td>\n",
              "      <td>1.00</td>\n",
              "    </tr>\n",
              "    <tr>\n",
              "      <th>1</th>\n",
              "      <td>1.95</td>\n",
              "      <td>0.68</td>\n",
              "      <td>28.41</td>\n",
              "      <td>0.47</td>\n",
              "      <td>0.46</td>\n",
              "      <td>48.40</td>\n",
              "      <td>1.00</td>\n",
              "    </tr>\n",
              "  </tbody>\n",
              "</table>\n",
              "</div>"
            ],
            "text/plain": [
              "          Pclass  Sex   Age  Siblings_Spouses_Aboard  Parents_Children_Aboard  \\\n",
              "Survived                                                                        \n",
              "0           2.53 0.15 30.14                     0.56                     0.33   \n",
              "1           1.95 0.68 28.41                     0.47                     0.46   \n",
              "\n",
              "          Fare  Sex_N  \n",
              "Survived               \n",
              "0        22.21   1.00  \n",
              "1        48.40   1.00  "
            ]
          },
          "metadata": {
            "tags": []
          },
          "execution_count": 13
        }
      ]
    },
    {
      "cell_type": "code",
      "metadata": {
        "colab": {
          "base_uri": "https://localhost:8080/",
          "height": 204
        },
        "id": "_NWW9uWesS95",
        "outputId": "76fab542-e3a4-4aae-a87b-e46035ebeb1b"
      },
      "source": [
        "df.groupby(['Survived','Sex']).count()"
      ],
      "execution_count": null,
      "outputs": [
        {
          "output_type": "execute_result",
          "data": {
            "text/html": [
              "<div>\n",
              "<style scoped>\n",
              "    .dataframe tbody tr th:only-of-type {\n",
              "        vertical-align: middle;\n",
              "    }\n",
              "\n",
              "    .dataframe tbody tr th {\n",
              "        vertical-align: top;\n",
              "    }\n",
              "\n",
              "    .dataframe thead th {\n",
              "        text-align: right;\n",
              "    }\n",
              "</style>\n",
              "<table border=\"1\" class=\"dataframe\">\n",
              "  <thead>\n",
              "    <tr style=\"text-align: right;\">\n",
              "      <th></th>\n",
              "      <th></th>\n",
              "      <th>Pclass</th>\n",
              "      <th>Name</th>\n",
              "      <th>Age</th>\n",
              "      <th>Siblings_Spouses_Aboard</th>\n",
              "      <th>Parents_Children_Aboard</th>\n",
              "      <th>Fare</th>\n",
              "      <th>Sex_N</th>\n",
              "    </tr>\n",
              "    <tr>\n",
              "      <th>Survived</th>\n",
              "      <th>Sex</th>\n",
              "      <th></th>\n",
              "      <th></th>\n",
              "      <th></th>\n",
              "      <th></th>\n",
              "      <th></th>\n",
              "      <th></th>\n",
              "      <th></th>\n",
              "    </tr>\n",
              "  </thead>\n",
              "  <tbody>\n",
              "    <tr>\n",
              "      <th rowspan=\"2\" valign=\"top\">0</th>\n",
              "      <th>0</th>\n",
              "      <td>464</td>\n",
              "      <td>464</td>\n",
              "      <td>464</td>\n",
              "      <td>464</td>\n",
              "      <td>464</td>\n",
              "      <td>464</td>\n",
              "      <td>464</td>\n",
              "    </tr>\n",
              "    <tr>\n",
              "      <th>1</th>\n",
              "      <td>81</td>\n",
              "      <td>81</td>\n",
              "      <td>81</td>\n",
              "      <td>81</td>\n",
              "      <td>81</td>\n",
              "      <td>81</td>\n",
              "      <td>81</td>\n",
              "    </tr>\n",
              "    <tr>\n",
              "      <th rowspan=\"2\" valign=\"top\">1</th>\n",
              "      <th>0</th>\n",
              "      <td>109</td>\n",
              "      <td>109</td>\n",
              "      <td>109</td>\n",
              "      <td>109</td>\n",
              "      <td>109</td>\n",
              "      <td>109</td>\n",
              "      <td>109</td>\n",
              "    </tr>\n",
              "    <tr>\n",
              "      <th>1</th>\n",
              "      <td>233</td>\n",
              "      <td>233</td>\n",
              "      <td>233</td>\n",
              "      <td>233</td>\n",
              "      <td>233</td>\n",
              "      <td>233</td>\n",
              "      <td>233</td>\n",
              "    </tr>\n",
              "  </tbody>\n",
              "</table>\n",
              "</div>"
            ],
            "text/plain": [
              "              Pclass  Name  Age  Siblings_Spouses_Aboard  \\\n",
              "Survived Sex                                               \n",
              "0        0       464   464  464                      464   \n",
              "         1        81    81   81                       81   \n",
              "1        0       109   109  109                      109   \n",
              "         1       233   233  233                      233   \n",
              "\n",
              "              Parents_Children_Aboard  Fare  Sex_N  \n",
              "Survived Sex                                        \n",
              "0        0                        464   464    464  \n",
              "         1                         81    81     81  \n",
              "1        0                        109   109    109  \n",
              "         1                        233   233    233  "
            ]
          },
          "metadata": {
            "tags": []
          },
          "execution_count": 16
        }
      ]
    },
    {
      "cell_type": "code",
      "metadata": {
        "colab": {
          "base_uri": "https://localhost:8080/",
          "height": 452
        },
        "id": "b3XRxocvskcV",
        "outputId": "65815345-274f-46d4-d232-f6b016bb2c13"
      },
      "source": [
        "df.groupby(['Survived','Sex','Pclass']).mean()"
      ],
      "execution_count": null,
      "outputs": [
        {
          "output_type": "execute_result",
          "data": {
            "text/html": [
              "<div>\n",
              "<style scoped>\n",
              "    .dataframe tbody tr th:only-of-type {\n",
              "        vertical-align: middle;\n",
              "    }\n",
              "\n",
              "    .dataframe tbody tr th {\n",
              "        vertical-align: top;\n",
              "    }\n",
              "\n",
              "    .dataframe thead th {\n",
              "        text-align: right;\n",
              "    }\n",
              "</style>\n",
              "<table border=\"1\" class=\"dataframe\">\n",
              "  <thead>\n",
              "    <tr style=\"text-align: right;\">\n",
              "      <th></th>\n",
              "      <th></th>\n",
              "      <th></th>\n",
              "      <th>Age</th>\n",
              "      <th>Siblings_Spouses_Aboard</th>\n",
              "      <th>Parents_Children_Aboard</th>\n",
              "      <th>Fare</th>\n",
              "      <th>Sex_N</th>\n",
              "    </tr>\n",
              "    <tr>\n",
              "      <th>Survived</th>\n",
              "      <th>Sex</th>\n",
              "      <th>Pclass</th>\n",
              "      <th></th>\n",
              "      <th></th>\n",
              "      <th></th>\n",
              "      <th></th>\n",
              "      <th></th>\n",
              "    </tr>\n",
              "  </thead>\n",
              "  <tbody>\n",
              "    <tr>\n",
              "      <th rowspan=\"6\" valign=\"top\">0</th>\n",
              "      <th rowspan=\"3\" valign=\"top\">0</th>\n",
              "      <th>1</th>\n",
              "      <td>44.29</td>\n",
              "      <td>0.27</td>\n",
              "      <td>0.26</td>\n",
              "      <td>62.89</td>\n",
              "      <td>1.00</td>\n",
              "    </tr>\n",
              "    <tr>\n",
              "      <th>2</th>\n",
              "      <td>33.00</td>\n",
              "      <td>0.31</td>\n",
              "      <td>0.14</td>\n",
              "      <td>19.49</td>\n",
              "      <td>1.00</td>\n",
              "    </tr>\n",
              "    <tr>\n",
              "      <th>3</th>\n",
              "      <td>27.14</td>\n",
              "      <td>0.53</td>\n",
              "      <td>0.22</td>\n",
              "      <td>12.24</td>\n",
              "      <td>1.00</td>\n",
              "    </tr>\n",
              "    <tr>\n",
              "      <th rowspan=\"3\" valign=\"top\">1</th>\n",
              "      <th>1</th>\n",
              "      <td>25.67</td>\n",
              "      <td>0.67</td>\n",
              "      <td>1.33</td>\n",
              "      <td>110.60</td>\n",
              "      <td>1.00</td>\n",
              "    </tr>\n",
              "    <tr>\n",
              "      <th>2</th>\n",
              "      <td>36.00</td>\n",
              "      <td>0.50</td>\n",
              "      <td>0.17</td>\n",
              "      <td>18.25</td>\n",
              "      <td>1.00</td>\n",
              "    </tr>\n",
              "    <tr>\n",
              "      <th>3</th>\n",
              "      <td>23.40</td>\n",
              "      <td>1.29</td>\n",
              "      <td>1.10</td>\n",
              "      <td>19.77</td>\n",
              "      <td>1.00</td>\n",
              "    </tr>\n",
              "    <tr>\n",
              "      <th rowspan=\"6\" valign=\"top\">1</th>\n",
              "      <th rowspan=\"3\" valign=\"top\">0</th>\n",
              "      <th>1</th>\n",
              "      <td>36.75</td>\n",
              "      <td>0.38</td>\n",
              "      <td>0.31</td>\n",
              "      <td>74.64</td>\n",
              "      <td>1.00</td>\n",
              "    </tr>\n",
              "    <tr>\n",
              "      <th>2</th>\n",
              "      <td>17.08</td>\n",
              "      <td>0.53</td>\n",
              "      <td>0.65</td>\n",
              "      <td>21.10</td>\n",
              "      <td>1.00</td>\n",
              "    </tr>\n",
              "    <tr>\n",
              "      <th>3</th>\n",
              "      <td>22.24</td>\n",
              "      <td>0.34</td>\n",
              "      <td>0.30</td>\n",
              "      <td>15.58</td>\n",
              "      <td>1.00</td>\n",
              "    </tr>\n",
              "    <tr>\n",
              "      <th rowspan=\"3\" valign=\"top\">1</th>\n",
              "      <th>1</th>\n",
              "      <td>35.57</td>\n",
              "      <td>0.55</td>\n",
              "      <td>0.43</td>\n",
              "      <td>105.98</td>\n",
              "      <td>1.00</td>\n",
              "    </tr>\n",
              "    <tr>\n",
              "      <th>2</th>\n",
              "      <td>28.38</td>\n",
              "      <td>0.49</td>\n",
              "      <td>0.64</td>\n",
              "      <td>22.29</td>\n",
              "      <td>1.00</td>\n",
              "    </tr>\n",
              "    <tr>\n",
              "      <th>3</th>\n",
              "      <td>20.87</td>\n",
              "      <td>0.50</td>\n",
              "      <td>0.50</td>\n",
              "      <td>12.46</td>\n",
              "      <td>1.00</td>\n",
              "    </tr>\n",
              "  </tbody>\n",
              "</table>\n",
              "</div>"
            ],
            "text/plain": [
              "                      Age  Siblings_Spouses_Aboard  Parents_Children_Aboard  \\\n",
              "Survived Sex Pclass                                                           \n",
              "0        0   1      44.29                     0.27                     0.26   \n",
              "             2      33.00                     0.31                     0.14   \n",
              "             3      27.14                     0.53                     0.22   \n",
              "         1   1      25.67                     0.67                     1.33   \n",
              "             2      36.00                     0.50                     0.17   \n",
              "             3      23.40                     1.29                     1.10   \n",
              "1        0   1      36.75                     0.38                     0.31   \n",
              "             2      17.08                     0.53                     0.65   \n",
              "             3      22.24                     0.34                     0.30   \n",
              "         1   1      35.57                     0.55                     0.43   \n",
              "             2      28.38                     0.49                     0.64   \n",
              "             3      20.87                     0.50                     0.50   \n",
              "\n",
              "                      Fare  Sex_N  \n",
              "Survived Sex Pclass                \n",
              "0        0   1       62.89   1.00  \n",
              "             2       19.49   1.00  \n",
              "             3       12.24   1.00  \n",
              "         1   1      110.60   1.00  \n",
              "             2       18.25   1.00  \n",
              "             3       19.77   1.00  \n",
              "1        0   1       74.64   1.00  \n",
              "             2       21.10   1.00  \n",
              "             3       15.58   1.00  \n",
              "         1   1      105.98   1.00  \n",
              "             2       22.29   1.00  \n",
              "             3       12.46   1.00  "
            ]
          },
          "metadata": {
            "tags": []
          },
          "execution_count": 20
        }
      ]
    },
    {
      "cell_type": "code",
      "metadata": {
        "colab": {
          "base_uri": "https://localhost:8080/",
          "height": 297
        },
        "id": "SKGdTCEis7Ri",
        "outputId": "804cac27-678d-4449-d202-994583d96016"
      },
      "source": [
        "df.corr()"
      ],
      "execution_count": null,
      "outputs": [
        {
          "output_type": "execute_result",
          "data": {
            "text/html": [
              "<div>\n",
              "<style scoped>\n",
              "    .dataframe tbody tr th:only-of-type {\n",
              "        vertical-align: middle;\n",
              "    }\n",
              "\n",
              "    .dataframe tbody tr th {\n",
              "        vertical-align: top;\n",
              "    }\n",
              "\n",
              "    .dataframe thead th {\n",
              "        text-align: right;\n",
              "    }\n",
              "</style>\n",
              "<table border=\"1\" class=\"dataframe\">\n",
              "  <thead>\n",
              "    <tr style=\"text-align: right;\">\n",
              "      <th></th>\n",
              "      <th>Survived</th>\n",
              "      <th>Pclass</th>\n",
              "      <th>Sex</th>\n",
              "      <th>Age</th>\n",
              "      <th>Siblings_Spouses_Aboard</th>\n",
              "      <th>Parents_Children_Aboard</th>\n",
              "      <th>Fare</th>\n",
              "      <th>Sex_N</th>\n",
              "    </tr>\n",
              "  </thead>\n",
              "  <tbody>\n",
              "    <tr>\n",
              "      <th>Survived</th>\n",
              "      <td>1.00</td>\n",
              "      <td>-0.34</td>\n",
              "      <td>0.54</td>\n",
              "      <td>-0.06</td>\n",
              "      <td>-0.04</td>\n",
              "      <td>0.08</td>\n",
              "      <td>0.26</td>\n",
              "      <td>nan</td>\n",
              "    </tr>\n",
              "    <tr>\n",
              "      <th>Pclass</th>\n",
              "      <td>-0.34</td>\n",
              "      <td>1.00</td>\n",
              "      <td>-0.13</td>\n",
              "      <td>-0.39</td>\n",
              "      <td>0.09</td>\n",
              "      <td>0.02</td>\n",
              "      <td>-0.55</td>\n",
              "      <td>nan</td>\n",
              "    </tr>\n",
              "    <tr>\n",
              "      <th>Sex</th>\n",
              "      <td>0.54</td>\n",
              "      <td>-0.13</td>\n",
              "      <td>1.00</td>\n",
              "      <td>-0.09</td>\n",
              "      <td>0.11</td>\n",
              "      <td>0.24</td>\n",
              "      <td>0.18</td>\n",
              "      <td>nan</td>\n",
              "    </tr>\n",
              "    <tr>\n",
              "      <th>Age</th>\n",
              "      <td>-0.06</td>\n",
              "      <td>-0.39</td>\n",
              "      <td>-0.09</td>\n",
              "      <td>1.00</td>\n",
              "      <td>-0.30</td>\n",
              "      <td>-0.19</td>\n",
              "      <td>0.11</td>\n",
              "      <td>nan</td>\n",
              "    </tr>\n",
              "    <tr>\n",
              "      <th>Siblings_Spouses_Aboard</th>\n",
              "      <td>-0.04</td>\n",
              "      <td>0.09</td>\n",
              "      <td>0.11</td>\n",
              "      <td>-0.30</td>\n",
              "      <td>1.00</td>\n",
              "      <td>0.41</td>\n",
              "      <td>0.16</td>\n",
              "      <td>nan</td>\n",
              "    </tr>\n",
              "    <tr>\n",
              "      <th>Parents_Children_Aboard</th>\n",
              "      <td>0.08</td>\n",
              "      <td>0.02</td>\n",
              "      <td>0.24</td>\n",
              "      <td>-0.19</td>\n",
              "      <td>0.41</td>\n",
              "      <td>1.00</td>\n",
              "      <td>0.22</td>\n",
              "      <td>nan</td>\n",
              "    </tr>\n",
              "    <tr>\n",
              "      <th>Fare</th>\n",
              "      <td>0.26</td>\n",
              "      <td>-0.55</td>\n",
              "      <td>0.18</td>\n",
              "      <td>0.11</td>\n",
              "      <td>0.16</td>\n",
              "      <td>0.22</td>\n",
              "      <td>1.00</td>\n",
              "      <td>nan</td>\n",
              "    </tr>\n",
              "    <tr>\n",
              "      <th>Sex_N</th>\n",
              "      <td>nan</td>\n",
              "      <td>nan</td>\n",
              "      <td>nan</td>\n",
              "      <td>nan</td>\n",
              "      <td>nan</td>\n",
              "      <td>nan</td>\n",
              "      <td>nan</td>\n",
              "      <td>nan</td>\n",
              "    </tr>\n",
              "  </tbody>\n",
              "</table>\n",
              "</div>"
            ],
            "text/plain": [
              "                         Survived  Pclass   Sex   Age  \\\n",
              "Survived                     1.00   -0.34  0.54 -0.06   \n",
              "Pclass                      -0.34    1.00 -0.13 -0.39   \n",
              "Sex                          0.54   -0.13  1.00 -0.09   \n",
              "Age                         -0.06   -0.39 -0.09  1.00   \n",
              "Siblings_Spouses_Aboard     -0.04    0.09  0.11 -0.30   \n",
              "Parents_Children_Aboard      0.08    0.02  0.24 -0.19   \n",
              "Fare                         0.26   -0.55  0.18  0.11   \n",
              "Sex_N                         nan     nan   nan   nan   \n",
              "\n",
              "                         Siblings_Spouses_Aboard  Parents_Children_Aboard  \\\n",
              "Survived                                   -0.04                     0.08   \n",
              "Pclass                                      0.09                     0.02   \n",
              "Sex                                         0.11                     0.24   \n",
              "Age                                        -0.30                    -0.19   \n",
              "Siblings_Spouses_Aboard                     1.00                     0.41   \n",
              "Parents_Children_Aboard                     0.41                     1.00   \n",
              "Fare                                        0.16                     0.22   \n",
              "Sex_N                                        nan                      nan   \n",
              "\n",
              "                         Fare  Sex_N  \n",
              "Survived                 0.26    nan  \n",
              "Pclass                  -0.55    nan  \n",
              "Sex                      0.18    nan  \n",
              "Age                      0.11    nan  \n",
              "Siblings_Spouses_Aboard  0.16    nan  \n",
              "Parents_Children_Aboard  0.22    nan  \n",
              "Fare                     1.00    nan  \n",
              "Sex_N                     nan    nan  "
            ]
          },
          "metadata": {
            "tags": []
          },
          "execution_count": 21
        }
      ]
    },
    {
      "cell_type": "code",
      "metadata": {
        "colab": {
          "base_uri": "https://localhost:8080/",
          "height": 276
        },
        "id": "qJuVu0bzuQE3",
        "outputId": "c2c32789-3beb-489d-dc66-de3b8dd7aabb"
      },
      "source": [
        "df.corr().style.background_gradient(cmap='coolwarm')"
      ],
      "execution_count": null,
      "outputs": [
        {
          "output_type": "stream",
          "text": [
            "/usr/local/lib/python3.6/dist-packages/pandas/io/formats/style.py:1126: RuntimeWarning: All-NaN slice encountered\n",
            "  smin = np.nanmin(s.to_numpy()) if vmin is None else vmin\n",
            "/usr/local/lib/python3.6/dist-packages/pandas/io/formats/style.py:1127: RuntimeWarning: All-NaN slice encountered\n",
            "  smax = np.nanmax(s.to_numpy()) if vmax is None else vmax\n"
          ],
          "name": "stderr"
        },
        {
          "output_type": "execute_result",
          "data": {
            "text/html": [
              "<style  type=\"text/css\" >\n",
              "#T_5db9d4ae_3430_11eb_b765_0242ac1c0002row0_col0,#T_5db9d4ae_3430_11eb_b765_0242ac1c0002row1_col1,#T_5db9d4ae_3430_11eb_b765_0242ac1c0002row2_col2,#T_5db9d4ae_3430_11eb_b765_0242ac1c0002row3_col3,#T_5db9d4ae_3430_11eb_b765_0242ac1c0002row4_col4,#T_5db9d4ae_3430_11eb_b765_0242ac1c0002row5_col5,#T_5db9d4ae_3430_11eb_b765_0242ac1c0002row6_col6{\n",
              "            background-color:  #b40426;\n",
              "            color:  #f1f1f1;\n",
              "        }#T_5db9d4ae_3430_11eb_b765_0242ac1c0002row0_col1{\n",
              "            background-color:  #6687ed;\n",
              "            color:  #000000;\n",
              "        }#T_5db9d4ae_3430_11eb_b765_0242ac1c0002row0_col2{\n",
              "            background-color:  #f1ccb8;\n",
              "            color:  #000000;\n",
              "        }#T_5db9d4ae_3430_11eb_b765_0242ac1c0002row0_col3{\n",
              "            background-color:  #89acfd;\n",
              "            color:  #000000;\n",
              "        }#T_5db9d4ae_3430_11eb_b765_0242ac1c0002row0_col4{\n",
              "            background-color:  #7b9ff9;\n",
              "            color:  #000000;\n",
              "        }#T_5db9d4ae_3430_11eb_b765_0242ac1c0002row0_col5{\n",
              "            background-color:  #85a8fc;\n",
              "            color:  #000000;\n",
              "        }#T_5db9d4ae_3430_11eb_b765_0242ac1c0002row0_col6{\n",
              "            background-color:  #e2dad5;\n",
              "            color:  #000000;\n",
              "        }#T_5db9d4ae_3430_11eb_b765_0242ac1c0002row0_col7,#T_5db9d4ae_3430_11eb_b765_0242ac1c0002row1_col7,#T_5db9d4ae_3430_11eb_b765_0242ac1c0002row2_col7,#T_5db9d4ae_3430_11eb_b765_0242ac1c0002row3_col7,#T_5db9d4ae_3430_11eb_b765_0242ac1c0002row4_col7,#T_5db9d4ae_3430_11eb_b765_0242ac1c0002row5_col7,#T_5db9d4ae_3430_11eb_b765_0242ac1c0002row6_col7,#T_5db9d4ae_3430_11eb_b765_0242ac1c0002row7_col0,#T_5db9d4ae_3430_11eb_b765_0242ac1c0002row7_col1,#T_5db9d4ae_3430_11eb_b765_0242ac1c0002row7_col2,#T_5db9d4ae_3430_11eb_b765_0242ac1c0002row7_col3,#T_5db9d4ae_3430_11eb_b765_0242ac1c0002row7_col4,#T_5db9d4ae_3430_11eb_b765_0242ac1c0002row7_col5,#T_5db9d4ae_3430_11eb_b765_0242ac1c0002row7_col6,#T_5db9d4ae_3430_11eb_b765_0242ac1c0002row7_col7{\n",
              "            background-color:  #000000;\n",
              "            color:  #f1f1f1;\n",
              "        }#T_5db9d4ae_3430_11eb_b765_0242ac1c0002row1_col0,#T_5db9d4ae_3430_11eb_b765_0242ac1c0002row1_col2,#T_5db9d4ae_3430_11eb_b765_0242ac1c0002row1_col3,#T_5db9d4ae_3430_11eb_b765_0242ac1c0002row1_col6,#T_5db9d4ae_3430_11eb_b765_0242ac1c0002row3_col4,#T_5db9d4ae_3430_11eb_b765_0242ac1c0002row3_col5,#T_5db9d4ae_3430_11eb_b765_0242ac1c0002row6_col1{\n",
              "            background-color:  #3b4cc0;\n",
              "            color:  #f1f1f1;\n",
              "        }#T_5db9d4ae_3430_11eb_b765_0242ac1c0002row1_col4{\n",
              "            background-color:  #9dbdff;\n",
              "            color:  #000000;\n",
              "        }#T_5db9d4ae_3430_11eb_b765_0242ac1c0002row1_col5{\n",
              "            background-color:  #7396f5;\n",
              "            color:  #000000;\n",
              "        }#T_5db9d4ae_3430_11eb_b765_0242ac1c0002row2_col0{\n",
              "            background-color:  #f7ba9f;\n",
              "            color:  #000000;\n",
              "        }#T_5db9d4ae_3430_11eb_b765_0242ac1c0002row2_col1{\n",
              "            background-color:  #94b6ff;\n",
              "            color:  #000000;\n",
              "        }#T_5db9d4ae_3430_11eb_b765_0242ac1c0002row2_col3,#T_5db9d4ae_3430_11eb_b765_0242ac1c0002row4_col2{\n",
              "            background-color:  #81a4fb;\n",
              "            color:  #000000;\n",
              "        }#T_5db9d4ae_3430_11eb_b765_0242ac1c0002row2_col4{\n",
              "            background-color:  #a5c3fe;\n",
              "            color:  #000000;\n",
              "        }#T_5db9d4ae_3430_11eb_b765_0242ac1c0002row2_col5{\n",
              "            background-color:  #b5cdfa;\n",
              "            color:  #000000;\n",
              "        }#T_5db9d4ae_3430_11eb_b765_0242ac1c0002row2_col6{\n",
              "            background-color:  #d5dbe5;\n",
              "            color:  #000000;\n",
              "        }#T_5db9d4ae_3430_11eb_b765_0242ac1c0002row3_col0{\n",
              "            background-color:  #7ea1fa;\n",
              "            color:  #000000;\n",
              "        }#T_5db9d4ae_3430_11eb_b765_0242ac1c0002row3_col1{\n",
              "            background-color:  #5a78e4;\n",
              "            color:  #000000;\n",
              "        }#T_5db9d4ae_3430_11eb_b765_0242ac1c0002row3_col2{\n",
              "            background-color:  #445acc;\n",
              "            color:  #f1f1f1;\n",
              "        }#T_5db9d4ae_3430_11eb_b765_0242ac1c0002row3_col6{\n",
              "            background-color:  #c9d7f0;\n",
              "            color:  #000000;\n",
              "        }#T_5db9d4ae_3430_11eb_b765_0242ac1c0002row4_col0{\n",
              "            background-color:  #84a7fc;\n",
              "            color:  #000000;\n",
              "        }#T_5db9d4ae_3430_11eb_b765_0242ac1c0002row4_col1{\n",
              "            background-color:  #c3d5f4;\n",
              "            color:  #000000;\n",
              "        }#T_5db9d4ae_3430_11eb_b765_0242ac1c0002row4_col3{\n",
              "            background-color:  #4f69d9;\n",
              "            color:  #000000;\n",
              "        }#T_5db9d4ae_3430_11eb_b765_0242ac1c0002row4_col5{\n",
              "            background-color:  #dfdbd9;\n",
              "            color:  #000000;\n",
              "        }#T_5db9d4ae_3430_11eb_b765_0242ac1c0002row4_col6{\n",
              "            background-color:  #d1dae9;\n",
              "            color:  #000000;\n",
              "        }#T_5db9d4ae_3430_11eb_b765_0242ac1c0002row5_col0{\n",
              "            background-color:  #a2c1ff;\n",
              "            color:  #000000;\n",
              "        }#T_5db9d4ae_3430_11eb_b765_0242ac1c0002row5_col1{\n",
              "            background-color:  #b6cefa;\n",
              "            color:  #000000;\n",
              "        }#T_5db9d4ae_3430_11eb_b765_0242ac1c0002row5_col2{\n",
              "            background-color:  #a9c6fd;\n",
              "            color:  #000000;\n",
              "        }#T_5db9d4ae_3430_11eb_b765_0242ac1c0002row5_col3{\n",
              "            background-color:  #6788ee;\n",
              "            color:  #000000;\n",
              "        }#T_5db9d4ae_3430_11eb_b765_0242ac1c0002row5_col4{\n",
              "            background-color:  #e9d5cb;\n",
              "            color:  #000000;\n",
              "        }#T_5db9d4ae_3430_11eb_b765_0242ac1c0002row5_col6{\n",
              "            background-color:  #dbdcde;\n",
              "            color:  #000000;\n",
              "        }#T_5db9d4ae_3430_11eb_b765_0242ac1c0002row6_col0{\n",
              "            background-color:  #cdd9ec;\n",
              "            color:  #000000;\n",
              "        }#T_5db9d4ae_3430_11eb_b765_0242ac1c0002row6_col2{\n",
              "            background-color:  #96b7ff;\n",
              "            color:  #000000;\n",
              "        }#T_5db9d4ae_3430_11eb_b765_0242ac1c0002row6_col3{\n",
              "            background-color:  #b3cdfb;\n",
              "            color:  #000000;\n",
              "        }#T_5db9d4ae_3430_11eb_b765_0242ac1c0002row6_col4{\n",
              "            background-color:  #b1cbfc;\n",
              "            color:  #000000;\n",
              "        }#T_5db9d4ae_3430_11eb_b765_0242ac1c0002row6_col5{\n",
              "            background-color:  #adc9fd;\n",
              "            color:  #000000;\n",
              "        }</style><table id=\"T_5db9d4ae_3430_11eb_b765_0242ac1c0002\" ><thead>    <tr>        <th class=\"blank level0\" ></th>        <th class=\"col_heading level0 col0\" >Survived</th>        <th class=\"col_heading level0 col1\" >Pclass</th>        <th class=\"col_heading level0 col2\" >Sex</th>        <th class=\"col_heading level0 col3\" >Age</th>        <th class=\"col_heading level0 col4\" >Siblings_Spouses_Aboard</th>        <th class=\"col_heading level0 col5\" >Parents_Children_Aboard</th>        <th class=\"col_heading level0 col6\" >Fare</th>        <th class=\"col_heading level0 col7\" >Sex_N</th>    </tr></thead><tbody>\n",
              "                <tr>\n",
              "                        <th id=\"T_5db9d4ae_3430_11eb_b765_0242ac1c0002level0_row0\" class=\"row_heading level0 row0\" >Survived</th>\n",
              "                        <td id=\"T_5db9d4ae_3430_11eb_b765_0242ac1c0002row0_col0\" class=\"data row0 col0\" >1.000000</td>\n",
              "                        <td id=\"T_5db9d4ae_3430_11eb_b765_0242ac1c0002row0_col1\" class=\"data row0 col1\" >-0.336528</td>\n",
              "                        <td id=\"T_5db9d4ae_3430_11eb_b765_0242ac1c0002row0_col2\" class=\"data row0 col2\" >0.542152</td>\n",
              "                        <td id=\"T_5db9d4ae_3430_11eb_b765_0242ac1c0002row0_col3\" class=\"data row0 col3\" >-0.059665</td>\n",
              "                        <td id=\"T_5db9d4ae_3430_11eb_b765_0242ac1c0002row0_col4\" class=\"data row0 col4\" >-0.037082</td>\n",
              "                        <td id=\"T_5db9d4ae_3430_11eb_b765_0242ac1c0002row0_col5\" class=\"data row0 col5\" >0.080097</td>\n",
              "                        <td id=\"T_5db9d4ae_3430_11eb_b765_0242ac1c0002row0_col6\" class=\"data row0 col6\" >0.256179</td>\n",
              "                        <td id=\"T_5db9d4ae_3430_11eb_b765_0242ac1c0002row0_col7\" class=\"data row0 col7\" >nan</td>\n",
              "            </tr>\n",
              "            <tr>\n",
              "                        <th id=\"T_5db9d4ae_3430_11eb_b765_0242ac1c0002level0_row1\" class=\"row_heading level0 row1\" >Pclass</th>\n",
              "                        <td id=\"T_5db9d4ae_3430_11eb_b765_0242ac1c0002row1_col0\" class=\"data row1 col0\" >-0.336528</td>\n",
              "                        <td id=\"T_5db9d4ae_3430_11eb_b765_0242ac1c0002row1_col1\" class=\"data row1 col1\" >1.000000</td>\n",
              "                        <td id=\"T_5db9d4ae_3430_11eb_b765_0242ac1c0002row1_col2\" class=\"data row1 col2\" >-0.129507</td>\n",
              "                        <td id=\"T_5db9d4ae_3430_11eb_b765_0242ac1c0002row1_col3\" class=\"data row1 col3\" >-0.391492</td>\n",
              "                        <td id=\"T_5db9d4ae_3430_11eb_b765_0242ac1c0002row1_col4\" class=\"data row1 col4\" >0.085026</td>\n",
              "                        <td id=\"T_5db9d4ae_3430_11eb_b765_0242ac1c0002row1_col5\" class=\"data row1 col5\" >0.020252</td>\n",
              "                        <td id=\"T_5db9d4ae_3430_11eb_b765_0242ac1c0002row1_col6\" class=\"data row1 col6\" >-0.548919</td>\n",
              "                        <td id=\"T_5db9d4ae_3430_11eb_b765_0242ac1c0002row1_col7\" class=\"data row1 col7\" >nan</td>\n",
              "            </tr>\n",
              "            <tr>\n",
              "                        <th id=\"T_5db9d4ae_3430_11eb_b765_0242ac1c0002level0_row2\" class=\"row_heading level0 row2\" >Sex</th>\n",
              "                        <td id=\"T_5db9d4ae_3430_11eb_b765_0242ac1c0002row2_col0\" class=\"data row2 col0\" >0.542152</td>\n",
              "                        <td id=\"T_5db9d4ae_3430_11eb_b765_0242ac1c0002row2_col1\" class=\"data row2 col1\" >-0.129507</td>\n",
              "                        <td id=\"T_5db9d4ae_3430_11eb_b765_0242ac1c0002row2_col2\" class=\"data row2 col2\" >1.000000</td>\n",
              "                        <td id=\"T_5db9d4ae_3430_11eb_b765_0242ac1c0002row2_col3\" class=\"data row2 col3\" >-0.091875</td>\n",
              "                        <td id=\"T_5db9d4ae_3430_11eb_b765_0242ac1c0002row2_col4\" class=\"data row2 col4\" >0.113249</td>\n",
              "                        <td id=\"T_5db9d4ae_3430_11eb_b765_0242ac1c0002row2_col5\" class=\"data row2 col5\" >0.244337</td>\n",
              "                        <td id=\"T_5db9d4ae_3430_11eb_b765_0242ac1c0002row2_col6\" class=\"data row2 col6\" >0.181137</td>\n",
              "                        <td id=\"T_5db9d4ae_3430_11eb_b765_0242ac1c0002row2_col7\" class=\"data row2 col7\" >nan</td>\n",
              "            </tr>\n",
              "            <tr>\n",
              "                        <th id=\"T_5db9d4ae_3430_11eb_b765_0242ac1c0002level0_row3\" class=\"row_heading level0 row3\" >Age</th>\n",
              "                        <td id=\"T_5db9d4ae_3430_11eb_b765_0242ac1c0002row3_col0\" class=\"data row3 col0\" >-0.059665</td>\n",
              "                        <td id=\"T_5db9d4ae_3430_11eb_b765_0242ac1c0002row3_col1\" class=\"data row3 col1\" >-0.391492</td>\n",
              "                        <td id=\"T_5db9d4ae_3430_11eb_b765_0242ac1c0002row3_col2\" class=\"data row3 col2\" >-0.091875</td>\n",
              "                        <td id=\"T_5db9d4ae_3430_11eb_b765_0242ac1c0002row3_col3\" class=\"data row3 col3\" >1.000000</td>\n",
              "                        <td id=\"T_5db9d4ae_3430_11eb_b765_0242ac1c0002row3_col4\" class=\"data row3 col4\" >-0.297669</td>\n",
              "                        <td id=\"T_5db9d4ae_3430_11eb_b765_0242ac1c0002row3_col5\" class=\"data row3 col5\" >-0.193741</td>\n",
              "                        <td id=\"T_5db9d4ae_3430_11eb_b765_0242ac1c0002row3_col6\" class=\"data row3 col6\" >0.112329</td>\n",
              "                        <td id=\"T_5db9d4ae_3430_11eb_b765_0242ac1c0002row3_col7\" class=\"data row3 col7\" >nan</td>\n",
              "            </tr>\n",
              "            <tr>\n",
              "                        <th id=\"T_5db9d4ae_3430_11eb_b765_0242ac1c0002level0_row4\" class=\"row_heading level0 row4\" >Siblings_Spouses_Aboard</th>\n",
              "                        <td id=\"T_5db9d4ae_3430_11eb_b765_0242ac1c0002row4_col0\" class=\"data row4 col0\" >-0.037082</td>\n",
              "                        <td id=\"T_5db9d4ae_3430_11eb_b765_0242ac1c0002row4_col1\" class=\"data row4 col1\" >0.085026</td>\n",
              "                        <td id=\"T_5db9d4ae_3430_11eb_b765_0242ac1c0002row4_col2\" class=\"data row4 col2\" >0.113249</td>\n",
              "                        <td id=\"T_5db9d4ae_3430_11eb_b765_0242ac1c0002row4_col3\" class=\"data row4 col3\" >-0.297669</td>\n",
              "                        <td id=\"T_5db9d4ae_3430_11eb_b765_0242ac1c0002row4_col4\" class=\"data row4 col4\" >1.000000</td>\n",
              "                        <td id=\"T_5db9d4ae_3430_11eb_b765_0242ac1c0002row4_col5\" class=\"data row4 col5\" >0.414244</td>\n",
              "                        <td id=\"T_5db9d4ae_3430_11eb_b765_0242ac1c0002row4_col6\" class=\"data row4 col6\" >0.158839</td>\n",
              "                        <td id=\"T_5db9d4ae_3430_11eb_b765_0242ac1c0002row4_col7\" class=\"data row4 col7\" >nan</td>\n",
              "            </tr>\n",
              "            <tr>\n",
              "                        <th id=\"T_5db9d4ae_3430_11eb_b765_0242ac1c0002level0_row5\" class=\"row_heading level0 row5\" >Parents_Children_Aboard</th>\n",
              "                        <td id=\"T_5db9d4ae_3430_11eb_b765_0242ac1c0002row5_col0\" class=\"data row5 col0\" >0.080097</td>\n",
              "                        <td id=\"T_5db9d4ae_3430_11eb_b765_0242ac1c0002row5_col1\" class=\"data row5 col1\" >0.020252</td>\n",
              "                        <td id=\"T_5db9d4ae_3430_11eb_b765_0242ac1c0002row5_col2\" class=\"data row5 col2\" >0.244337</td>\n",
              "                        <td id=\"T_5db9d4ae_3430_11eb_b765_0242ac1c0002row5_col3\" class=\"data row5 col3\" >-0.193741</td>\n",
              "                        <td id=\"T_5db9d4ae_3430_11eb_b765_0242ac1c0002row5_col4\" class=\"data row5 col4\" >0.414244</td>\n",
              "                        <td id=\"T_5db9d4ae_3430_11eb_b765_0242ac1c0002row5_col5\" class=\"data row5 col5\" >1.000000</td>\n",
              "                        <td id=\"T_5db9d4ae_3430_11eb_b765_0242ac1c0002row5_col6\" class=\"data row5 col6\" >0.215470</td>\n",
              "                        <td id=\"T_5db9d4ae_3430_11eb_b765_0242ac1c0002row5_col7\" class=\"data row5 col7\" >nan</td>\n",
              "            </tr>\n",
              "            <tr>\n",
              "                        <th id=\"T_5db9d4ae_3430_11eb_b765_0242ac1c0002level0_row6\" class=\"row_heading level0 row6\" >Fare</th>\n",
              "                        <td id=\"T_5db9d4ae_3430_11eb_b765_0242ac1c0002row6_col0\" class=\"data row6 col0\" >0.256179</td>\n",
              "                        <td id=\"T_5db9d4ae_3430_11eb_b765_0242ac1c0002row6_col1\" class=\"data row6 col1\" >-0.548919</td>\n",
              "                        <td id=\"T_5db9d4ae_3430_11eb_b765_0242ac1c0002row6_col2\" class=\"data row6 col2\" >0.181137</td>\n",
              "                        <td id=\"T_5db9d4ae_3430_11eb_b765_0242ac1c0002row6_col3\" class=\"data row6 col3\" >0.112329</td>\n",
              "                        <td id=\"T_5db9d4ae_3430_11eb_b765_0242ac1c0002row6_col4\" class=\"data row6 col4\" >0.158839</td>\n",
              "                        <td id=\"T_5db9d4ae_3430_11eb_b765_0242ac1c0002row6_col5\" class=\"data row6 col5\" >0.215470</td>\n",
              "                        <td id=\"T_5db9d4ae_3430_11eb_b765_0242ac1c0002row6_col6\" class=\"data row6 col6\" >1.000000</td>\n",
              "                        <td id=\"T_5db9d4ae_3430_11eb_b765_0242ac1c0002row6_col7\" class=\"data row6 col7\" >nan</td>\n",
              "            </tr>\n",
              "            <tr>\n",
              "                        <th id=\"T_5db9d4ae_3430_11eb_b765_0242ac1c0002level0_row7\" class=\"row_heading level0 row7\" >Sex_N</th>\n",
              "                        <td id=\"T_5db9d4ae_3430_11eb_b765_0242ac1c0002row7_col0\" class=\"data row7 col0\" >nan</td>\n",
              "                        <td id=\"T_5db9d4ae_3430_11eb_b765_0242ac1c0002row7_col1\" class=\"data row7 col1\" >nan</td>\n",
              "                        <td id=\"T_5db9d4ae_3430_11eb_b765_0242ac1c0002row7_col2\" class=\"data row7 col2\" >nan</td>\n",
              "                        <td id=\"T_5db9d4ae_3430_11eb_b765_0242ac1c0002row7_col3\" class=\"data row7 col3\" >nan</td>\n",
              "                        <td id=\"T_5db9d4ae_3430_11eb_b765_0242ac1c0002row7_col4\" class=\"data row7 col4\" >nan</td>\n",
              "                        <td id=\"T_5db9d4ae_3430_11eb_b765_0242ac1c0002row7_col5\" class=\"data row7 col5\" >nan</td>\n",
              "                        <td id=\"T_5db9d4ae_3430_11eb_b765_0242ac1c0002row7_col6\" class=\"data row7 col6\" >nan</td>\n",
              "                        <td id=\"T_5db9d4ae_3430_11eb_b765_0242ac1c0002row7_col7\" class=\"data row7 col7\" >nan</td>\n",
              "            </tr>\n",
              "    </tbody></table>"
            ],
            "text/plain": [
              "<pandas.io.formats.style.Styler at 0x7fca780219b0>"
            ]
          },
          "metadata": {
            "tags": []
          },
          "execution_count": 22
        }
      ]
    },
    {
      "cell_type": "code",
      "metadata": {
        "colab": {
          "base_uri": "https://localhost:8080/"
        },
        "id": "Zk5uKUT4v9Gf",
        "outputId": "a48bc451-bba7-4e9c-d303-a4dbfdf5973d"
      },
      "source": [
        "import matplotlib.pyplot as plt\n",
        "#gráfico que mostra a correlação em imagem\n",
        "correlacao = df.corr()\n",
        "plt.figure(figsize=(7,5))\n",
        "plt.imshow(correlacao, cmap='Blues',interpolation='none',aspect='auto')\n",
        "plt.colorbar()\n",
        "plt.xticks(range(len(correlacao)),correlacao.columns,rotation='vertical')\n",
        "plt.yticks(range(len(correlacao)),correlacao.columns)\n",
        "plt.suptitle('Correlação entre os dados',fontsize=15,fontweight='bold')\n",
        "plt.grid(False)\n",
        "plt.show"
      ],
      "execution_count": null,
      "outputs": [
        {
          "output_type": "execute_result",
          "data": {
            "text/plain": [
              "Pclass\n",
              "1   84.15\n",
              "2   20.66\n",
              "3   13.71\n",
              "Name: Fare, dtype: float64"
            ]
          },
          "metadata": {
            "tags": []
          },
          "execution_count": 24
        }
      ]
    },
    {
      "cell_type": "markdown",
      "metadata": {
        "id": "y3ahl2Mjw5Yj"
      },
      "source": [
        "2) Apresente um gráfico de livre escolha que auxilie nas conclusões que expliquem os sobreviventes do naufrágio."
      ]
    },
    {
      "cell_type": "code",
      "metadata": {
        "colab": {
          "base_uri": "https://localhost:8080/",
          "height": 489
        },
        "id": "npvciOeXr0W3",
        "outputId": "780ac5fa-5580-4e0a-9364-6d255d43e266"
      },
      "source": [
        "import matplotlib.pyplot as plt #importa biblioteca MATPLOTLIB\n",
        "#gráfico que mostra a correlação em imagem\n",
        "correlacao = df.corr() #define uma variavel correlaçao\n",
        "plt.figure(figsize=(7,5)) # define o tamanho da figura\n",
        "plt.imshow(correlacao, cmap='Blues',interpolation='none',aspect='auto') #\n",
        "plt.colorbar()\n",
        "plt.xticks(range(len(correlacao)),correlacao.columns,rotation='vertical')\n",
        "plt.yticks(range(len(correlacao)),correlacao.columns)\n",
        "plt.suptitle('Correlação entre os dados',fontsize=15,fontweight='bold')\n",
        "plt.grid(False)\n",
        "plt.show"
      ],
      "execution_count": null,
      "outputs": [
        {
          "output_type": "execute_result",
          "data": {
            "text/plain": [
              "<function matplotlib.pyplot.show>"
            ]
          },
          "metadata": {
            "tags": []
          },
          "execution_count": 27
        },
        {
          "output_type": "display_data",
          "data": {
            "image/png": "[encoded data removed]",
            "text/plain": [
              "<Figure size 504x360 with 2 Axes>"
            ]
          },
          "metadata": {
            "tags": [],
            "needs_background": "light"
          }
        }
      ]
    },
    {
      "cell_type": "code",
      "metadata": {
        "id": "5lWnU-YpqtQ6"
      },
      "source": [
        ""
      ],
      "execution_count": null,
      "outputs": []
    },
    {
      "cell_type": "code",
      "metadata": {
        "id": "FB6xi_pKqujy"
      },
      "source": [
        ""
      ],
      "execution_count": null,
      "outputs": []
    },
    {
      "cell_type": "code",
      "metadata": {
        "id": "O6BqqCLxnDpG"
      },
      "source": [
        "# Responda aqui a questão 2"
      ],
      "execution_count": null,
      "outputs": []
    },
    {
      "cell_type": "code",
      "metadata": {
        "colab": {
          "base_uri": "https://localhost:8080/",
          "height": 321
        },
        "id": "aycM9rfkxJrD",
        "outputId": "f8e20107-7645-4cd3-c8e5-7cac4ddaf5fc"
      },
      "source": [
        "df.groupby('Sex')['Survived'].mean().plot(kind='bar')"
      ],
      "execution_count": null,
      "outputs": [
        {
          "output_type": "execute_result",
          "data": {
            "text/plain": [
              "<matplotlib.axes._subplots.AxesSubplot at 0x7f102a6dff98>"
            ]
          },
          "metadata": {
            "tags": []
          },
          "execution_count": 8
        },
        {
          "output_type": "display_data",
          "data": {
            "image/png": "[encoded data removed]",
            "text/plain": [
              "<Figure size 432x288 with 1 Axes>"
            ]
          },
          "metadata": {
            "tags": [],
            "needs_background": "light"
          }
        }
      ]
    },
    {
      "cell_type": "code",
      "metadata": {
        "id": "L6jqQFfLxLH3",
        "colab": {
          "base_uri": "https://localhost:8080/",
          "height": 316
        },
        "outputId": "983ff905-50a5-4945-913b-a7fa6337932a"
      },
      "source": [
        "def get_grupo(row):\n",
        "    if row.Age < 12:\n",
        "        return 'crianca'\n",
        "    else:\n",
        "        return 'homem' if row.Sex == 'male' else 'mulher'\n",
        "\n",
        "df['Grupo'] = df.apply(get_grupo, axis=1)\n",
        "df.head()\n",
        "\n",
        "df.Grupo.value_counts().plot(kind='pie', autopct='%.2f%%')\n",
        "plt.axis('equal')"
      ],
      "execution_count": null,
      "outputs": [
        {
          "output_type": "execute_result",
          "data": {
            "text/plain": [
              "(-1.1069252188010887,\n",
              " 1.1003297812542465,\n",
              " -1.1053624457381575,\n",
              " 1.1075994730177563)"
            ]
          },
          "metadata": {
            "tags": []
          },
          "execution_count": 28
        },
        {
          "output_type": "display_data",
          "data": {
            "image/png": "[encoded data removed]",
            "text/plain": [
              "<Figure size 432x288 with 1 Axes>"
            ]
          },
          "metadata": {
            "tags": []
          }
        }
      ]
    }
  ]
}